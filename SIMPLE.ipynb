{
 "cells": [
  {
   "cell_type": "code",
   "execution_count": 1,
   "metadata": {},
   "outputs": [],
   "source": [
    "import math\n",
    "import numpy as np\n",
    "\n",
    "import mido\n",
    "import librosa\n",
    "import librosa.display\n",
    "\n",
    "import IPython.display as ipd\n",
    "import matplotlib.pyplot as plt\n",
    "from torch import optim"
   ]
  },
  {
   "cell_type": "code",
   "execution_count": 2,
   "metadata": {},
   "outputs": [
    {
     "ename": "NoBackendError",
     "evalue": "",
     "output_type": "error",
     "traceback": [
      "\u001b[0;31m---------------------------------------------------------------------------\u001b[0m",
      "\u001b[0;31mNoBackendError\u001b[0m                            Traceback (most recent call last)",
      "\u001b[0;32m<ipython-input-2-f8980eaf133a>\u001b[0m in \u001b[0;36m<module>\u001b[0;34m\u001b[0m\n\u001b[0;32m----> 1\u001b[0;31m \u001b[0my\u001b[0m\u001b[0;34m,\u001b[0m \u001b[0msr\u001b[0m \u001b[0;34m=\u001b[0m \u001b[0mlibrosa\u001b[0m\u001b[0;34m.\u001b[0m\u001b[0mload\u001b[0m\u001b[0;34m(\u001b[0m\u001b[0;34m'4Beats.wav'\u001b[0m\u001b[0;34m)\u001b[0m\u001b[0;34m\u001b[0m\u001b[0;34m\u001b[0m\u001b[0m\n\u001b[0m",
      "\u001b[0;32m~/miniconda3/lib/python3.7/site-packages/librosa/core/audio.py\u001b[0m in \u001b[0;36mload\u001b[0;34m(path, sr, mono, offset, duration, dtype, res_type)\u001b[0m\n\u001b[1;32m    117\u001b[0m \u001b[0;34m\u001b[0m\u001b[0m\n\u001b[1;32m    118\u001b[0m     \u001b[0my\u001b[0m \u001b[0;34m=\u001b[0m \u001b[0;34m[\u001b[0m\u001b[0;34m]\u001b[0m\u001b[0;34m\u001b[0m\u001b[0;34m\u001b[0m\u001b[0m\n\u001b[0;32m--> 119\u001b[0;31m     \u001b[0;32mwith\u001b[0m \u001b[0maudioread\u001b[0m\u001b[0;34m.\u001b[0m\u001b[0maudio_open\u001b[0m\u001b[0;34m(\u001b[0m\u001b[0mos\u001b[0m\u001b[0;34m.\u001b[0m\u001b[0mpath\u001b[0m\u001b[0;34m.\u001b[0m\u001b[0mrealpath\u001b[0m\u001b[0;34m(\u001b[0m\u001b[0mpath\u001b[0m\u001b[0;34m)\u001b[0m\u001b[0;34m)\u001b[0m \u001b[0;32mas\u001b[0m \u001b[0minput_file\u001b[0m\u001b[0;34m:\u001b[0m\u001b[0;34m\u001b[0m\u001b[0;34m\u001b[0m\u001b[0m\n\u001b[0m\u001b[1;32m    120\u001b[0m         \u001b[0msr_native\u001b[0m \u001b[0;34m=\u001b[0m \u001b[0minput_file\u001b[0m\u001b[0;34m.\u001b[0m\u001b[0msamplerate\u001b[0m\u001b[0;34m\u001b[0m\u001b[0;34m\u001b[0m\u001b[0m\n\u001b[1;32m    121\u001b[0m         \u001b[0mn_channels\u001b[0m \u001b[0;34m=\u001b[0m \u001b[0minput_file\u001b[0m\u001b[0;34m.\u001b[0m\u001b[0mchannels\u001b[0m\u001b[0;34m\u001b[0m\u001b[0;34m\u001b[0m\u001b[0m\n",
      "\u001b[0;32m~/miniconda3/lib/python3.7/site-packages/audioread/__init__.py\u001b[0m in \u001b[0;36maudio_open\u001b[0;34m(path)\u001b[0m\n\u001b[1;32m    114\u001b[0m \u001b[0;34m\u001b[0m\u001b[0m\n\u001b[1;32m    115\u001b[0m     \u001b[0;31m# All backends failed!\u001b[0m\u001b[0;34m\u001b[0m\u001b[0;34m\u001b[0m\u001b[0;34m\u001b[0m\u001b[0m\n\u001b[0;32m--> 116\u001b[0;31m     \u001b[0;32mraise\u001b[0m \u001b[0mNoBackendError\u001b[0m\u001b[0;34m(\u001b[0m\u001b[0;34m)\u001b[0m\u001b[0;34m\u001b[0m\u001b[0;34m\u001b[0m\u001b[0m\n\u001b[0m",
      "\u001b[0;31mNoBackendError\u001b[0m: "
     ]
    }
   ],
   "source": [
    "y, sr = librosa.load('4Beats.wav')"
   ]
  },
  {
   "cell_type": "code",
   "execution_count": 56,
   "metadata": {},
   "outputs": [],
   "source": [
    "D = librosa.stft(y)"
   ]
  },
  {
   "cell_type": "code",
   "execution_count": 57,
   "metadata": {},
   "outputs": [
    {
     "data": {
      "text/plain": [
       "(1025, 87)"
      ]
     },
     "execution_count": 57,
     "metadata": {},
     "output_type": "execute_result"
    }
   ],
   "source": [
    "D.shape"
   ]
  },
  {
   "cell_type": "code",
   "execution_count": 79,
   "metadata": {},
   "outputs": [
    {
     "name": "stdout",
     "output_type": "stream",
     "text": [
      "(1025, 1)\n"
     ]
    }
   ],
   "source": [
    "print(D[:,1:2].shape)\n",
    "\n",
    "y_hat2 = librosa.istft(np.abs(D.real))\n",
    "y_hat_sign = librosa.istft(np.abs(D) * np.sign(D))\n",
    "y_Short = librosa.istft(D[:,1:4])\n",
    "\n",
    "\n"
   ]
  },
  {
   "cell_type": "code",
   "execution_count": 80,
   "metadata": {},
   "outputs": [
    {
     "data": {
      "text/html": [
       "\n",
       "                <audio controls=\"controls\" >\n",
       "                    <source src=\"data:audio/wav;base64,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\" type=\"audio/wav\" />\n",
       "                    Your browser does not support the audio element.\n",
       "                </audio>\n",
       "              "
      ],
      "text/plain": [
       "<IPython.lib.display.Audio object>"
      ]
     },
     "execution_count": 80,
     "metadata": {},
     "output_type": "execute_result"
    }
   ],
   "source": [
    "#ipd.Audio(y_hat,rate=sr) # load a local WAV file\n",
    "ipd.Audio(y_Short,rate=sr) # load a local WAV file"
   ]
  },
  {
   "cell_type": "code",
   "execution_count": 7,
   "metadata": {},
   "outputs": [
    {
     "data": {
      "text/plain": [
       "<matplotlib.collections.PolyCollection at 0x1c21937438>"
      ]
     },
     "execution_count": 7,
     "metadata": {},
     "output_type": "execute_result"
    },
    {
     "data": {
      "image/png": "[encoded data removed]",
      "text/plain": [
       "<Figure size 432x288 with 1 Axes>"
      ]
     },
     "metadata": {
      "needs_background": "light"
     },
     "output_type": "display_data"
    }
   ],
   "source": [
    "librosa.display.waveplot(y_hat_sign, sr=sr);\n",
    "librosa.display.waveplot(y_hat2, sr=sr)"
   ]
  },
  {
   "cell_type": "code",
   "execution_count": 8,
   "metadata": {},
   "outputs": [
    {
     "name": "stdout",
     "output_type": "stream",
     "text": [
      "Track 0: Inst 1\n",
      "0\n",
      "0\n",
      "0\n",
      "0\n",
      "0\n",
      "0\n",
      "0\n",
      "0\n",
      "240\n",
      "240\n",
      "240\n",
      "240\n",
      "240\n",
      "240\n",
      "240\n",
      "240\n"
     ]
    }
   ],
   "source": [
    "noteDict={}\n",
    "mid = mido.MidiFile('4Beatsslow.mid')\n",
    "for i, track in enumerate(mid.tracks):\n",
    "    print('Track {}: {}'.format(i, track.name))\n",
    "    for msg in track:\n",
    "        print(msg.time)"
   ]
  },
  {
   "cell_type": "code",
   "execution_count": 9,
   "metadata": {},
   "outputs": [
    {
     "data": {
      "text/plain": [
       "2880"
      ]
     },
     "execution_count": 9,
     "metadata": {},
     "output_type": "execute_result"
    }
   ],
   "source": [
    "120*24"
   ]
  },
  {
   "cell_type": "code",
   "execution_count": 11,
   "metadata": {},
   "outputs": [
    {
     "name": "stdout",
     "output_type": "stream",
     "text": [
      "0.5 0.020833333333333332 0.25\n"
     ]
    }
   ],
   "source": [
    "bps = (60/(60000000/500000))\n",
    "ticktime = bps/(24)\n",
    "ticktime*240\n",
    "print(bps,ticktime,(ticktime*240)/20)"
   ]
  },
  {
   "cell_type": "code",
   "execution_count": 12,
   "metadata": {},
   "outputs": [
    {
     "name": "stdout",
     "output_type": "stream",
     "text": [
      "note_on channel=0 note=48 velocity=80 time=0\n",
      "note_off channel=0 note=48 velocity=64 time=0.25\n",
      "note_on channel=0 note=48 velocity=80 time=0.25\n",
      "note_off channel=0 note=48 velocity=64 time=0.25\n",
      "note_on channel=0 note=48 velocity=80 time=0.25\n",
      "note_off channel=0 note=48 velocity=64 time=0.25\n",
      "note_on channel=0 note=48 velocity=80 time=0.25\n",
      "note_off channel=0 note=48 velocity=64 time=0.25\n"
     ]
    }
   ],
   "source": [
    "for msg in mido.MidiFile('4Beats.mid').play():\n",
    "    print(msg)"
   ]
  },
  {
   "cell_type": "code",
   "execution_count": 13,
   "metadata": {},
   "outputs": [
    {
     "name": "stdout",
     "output_type": "stream",
     "text": [
      "48\n",
      "48\n",
      "48\n",
      "48\n",
      "48\n",
      "48\n",
      "48\n",
      "48\n"
     ]
    }
   ],
   "source": [
    "for msg in mido.MidiFile('4Beatsslow.mid'):\n",
    "    #time.sleep(msg.time)\n",
    "    if not msg.is_meta:\n",
    "        print(msg.note)"
   ]
  },
  {
   "cell_type": "code",
   "execution_count": 14,
   "metadata": {},
   "outputs": [],
   "source": [
    "def noteToFreq(m):\n",
    "    return 2**((m-69)/12) * 440"
   ]
  },
  {
   "cell_type": "code",
   "execution_count": 81,
   "metadata": {},
   "outputs": [],
   "source": [
    "midiArray=[]\n",
    "HopSize= 2048 / 22050 / 4\n",
    "timeTracker=0.0\n",
    "totalTimeTracker=0.0\n",
    "MemoryArray=np.zeros(1025)\n",
    "lasttime=0;\n",
    "for msg in mido.MidiFile('4Beats.mid'):\n",
    "    if not msg.is_meta:\n",
    "        totalTimeTracker+=msg.time\n",
    "        nextEventTime=lasttime+msg.time\n",
    "        while nextEventTime> timeTracker + HopSize:\n",
    "            midiArray.append(MemoryArray.copy())\n",
    "            timeTracker += HopSize;\n",
    "        if msg.type=='note_on':\n",
    "            MemoryArray[math.floor(noteToFreq(msg.note)/10.864)]+=1.0;\n",
    "        elif msg.type=='note_off':\n",
    "            MemoryArray[math.floor(noteToFreq(msg.note)/10.864)]-=1.0;\n",
    "        if timeTracker+msg.time == timeTracker + HopSize:\n",
    "            midiArray.append(MemoryArray.copy())\n",
    "            timeTracker += HopSize\n",
    "        lasttime += msg.time\n",
    "midiArray = np.array(midiArray)        "
   ]
  },
  {
   "cell_type": "code",
   "execution_count": 60,
   "metadata": {},
   "outputs": [
    {
     "data": {
      "text/plain": [
       "(75, 1025)"
      ]
     },
     "execution_count": 60,
     "metadata": {},
     "output_type": "execute_result"
    }
   ],
   "source": [
    "midiArray.shape"
   ]
  },
  {
   "cell_type": "code",
   "execution_count": 61,
   "metadata": {},
   "outputs": [],
   "source": [
    "midifft = np.array(midiArray).T"
   ]
  },
  {
   "cell_type": "code",
   "execution_count": 62,
   "metadata": {},
   "outputs": [
    {
     "data": {
      "text/plain": [
       "1025"
      ]
     },
     "execution_count": 62,
     "metadata": {},
     "output_type": "execute_result"
    }
   ],
   "source": [
    "len(midifft)"
   ]
  },
  {
   "cell_type": "code",
   "execution_count": 63,
   "metadata": {},
   "outputs": [
    {
     "data": {
      "text/plain": [
       "(1025, 75)"
      ]
     },
     "execution_count": 63,
     "metadata": {},
     "output_type": "execute_result"
    }
   ],
   "source": [
    "midifft.shape"
   ]
  },
  {
   "cell_type": "code",
   "execution_count": 64,
   "metadata": {},
   "outputs": [
    {
     "name": "stdout",
     "output_type": "stream",
     "text": [
      "(75, 1025)\n"
     ]
    },
    {
     "name": "stderr",
     "output_type": "stream",
     "text": [
      "/Users/dg/anaconda3/envs/INFO6010/lib/python3.7/site-packages/matplotlib/image.py:855: UserWarning: Attempting to set identical left==right results\n",
      "in singular transformations; automatically expanding.\n",
      "left=-0.5, right=-0.5\n",
      "  self.axes.set_xlim((xmin, xmax), auto=None)\n"
     ]
    },
    {
     "data": {
      "text/plain": [
       "<matplotlib.image.AxesImage at 0x1c21c5cf60>"
      ]
     },
     "execution_count": 64,
     "metadata": {},
     "output_type": "execute_result"
    },
    {
     "data": {
      "image/png": "[encoded data removed]",
      "text/plain": [
       "<Figure size 432x288 with 1 Axes>"
      ]
     },
     "metadata": {
      "needs_background": "light"
     },
     "output_type": "display_data"
    }
   ],
   "source": [
    "y_hat = librosa.istft(midifft)\n",
    "npMidiArray=np.array(midiArray)\n",
    "print(npMidiArray.shape)\n",
    "plt.imshow(npMidiArray.T[:,100:200],aspect='auto',interpolation='none')"
   ]
  },
  {
   "cell_type": "code",
   "execution_count": 65,
   "metadata": {},
   "outputs": [
    {
     "data": {
      "text/html": [
       "\n",
       "                <audio controls=\"controls\" >\n",
       "                    <source src=\"data:audio/wav;base64,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\" type=\"audio/wav\" />\n",
       "                    Your browser does not support the audio element.\n",
       "                </audio>\n",
       "              "
      ],
      "text/plain": [
       "<IPython.lib.display.Audio object>"
      ]
     },
     "execution_count": 65,
     "metadata": {},
     "output_type": "execute_result"
    }
   ],
   "source": [
    "ipd.Audio(y_hat,rate=22050)"
   ]
  },
  {
   "cell_type": "code",
   "execution_count": 82,
   "metadata": {},
   "outputs": [],
   "source": [
    "midiArray=[]\n",
    "HopSize=0.023\n",
    "timeTracker=0.0\n",
    "totalTimeTracker=0.0\n",
    "MemoryArray=np.zeros(127)\n",
    "lasttime=0;\n",
    "for msg in mido.MidiFile('4Beats.mid'):\n",
    "    if not msg.is_meta:\n",
    "        totalTimeTracker+=msg.time\n",
    "        nextEventTime=lasttime+msg.time\n",
    "        while nextEventTime> timeTracker + HopSize:\n",
    "            midiArray.append(MemoryArray.copy())\n",
    "            timeTracker += HopSize;\n",
    "        if msg.type=='note_on':\n",
    "            MemoryArray[msg.note]+=1.0;\n",
    "        elif msg.type=='note_off':\n",
    "            MemoryArray[msg.note]-=1.0;\n",
    "        if(timeTracker+msg.time >= timeTracker + HopSize):\n",
    "            midiArray.append(MemoryArray.copy())\n",
    "            timeTracker += HopSize\n",
    "        lasttime += msg.time\n",
    "        "
   ]
  },
  {
   "cell_type": "code",
   "execution_count": 98,
   "metadata": {},
   "outputs": [],
   "source": [
    "import torch.nn.functional as F\n",
    "from torch import nn\n",
    "import torch"
   ]
  },
  {
   "cell_type": "code",
   "execution_count": 54,
   "metadata": {},
   "outputs": [
    {
     "data": {
      "text/plain": [
       "Network(\n",
       "  (fc1): Linear(in_features=127, out_features=500, bias=True)\n",
       "  (fc2): Linear(in_features=500, out_features=700, bias=True)\n",
       "  (fc3): Linear(in_features=700, out_features=1025, bias=True)\n",
       ")"
      ]
     },
     "execution_count": 54,
     "metadata": {},
     "output_type": "execute_result"
    }
   ],
   "source": [
    "## Solution\n",
    "\n",
    "class Network(nn.Module):\n",
    "    def __init__(self):\n",
    "        super().__init__()\n",
    "        # Defining the layers, 128, 64, 10 units each\n",
    "        self.fc1 = nn.Linear(127, 500)\n",
    "        self.fc2 = nn.Linear(500, 700)\n",
    "        # Output layer, 10 units - one for each digit\n",
    "        self.fc3 = nn.Linear(700, 1025)\n",
    "        \n",
    "    def forward(self, x):\n",
    "        ''' Forward pass through the network, returns the output logits '''\n",
    "        \n",
    "        x = self.fc1(x)\n",
    "        x = F.relu(x)\n",
    "        x = self.fc2(x)\n",
    "        x = F.relu(x)\n",
    "        x = self.fc3(x)\n",
    "        return x\n",
    "\n",
    "model = Network()\n",
    "model"
   ]
  },
  {
   "cell_type": "code",
   "execution_count": 123,
   "metadata": {},
   "outputs": [
    {
     "data": {
      "text/plain": [
       "(87, 1025)"
      ]
     },
     "execution_count": 123,
     "metadata": {},
     "output_type": "execute_result"
    }
   ],
   "source": [
    "midiArray=np.float32(np.array(midiArray))\n",
    "midiArray.shape\n",
    "D_t=D.T\n",
    "D_t.shape"
   ]
  },
  {
   "cell_type": "code",
   "execution_count": 139,
   "metadata": {},
   "outputs": [
    {
     "name": "stdout",
     "output_type": "stream",
     "text": [
      "(77, 127) (77, 1025)\n",
      "float32 float32\n"
     ]
    }
   ],
   "source": [
    "D_data=D_t[:midiArray.shape[0]].real;\n",
    "print(midiArray.shape,D_data.shape)\n",
    "print(midiArray.dtype,D_data.dtype)"
   ]
  },
  {
   "cell_type": "code",
   "execution_count": 163,
   "metadata": {},
   "outputs": [
    {
     "name": "stdout",
     "output_type": "stream",
     "text": [
      "torch.Size([77, 127]) torch.Size([77, 1025])\n"
     ]
    }
   ],
   "source": [
    "import torch.utils.data as utils\n",
    "\n",
    "\n",
    "tensor_x = torch.stack([torch.Tensor(i) for i in np.abs(midiArray)/np.max(np.abs(midiArray))]) # transform to torch tensors\n",
    "tensor_y = torch.stack([torch.Tensor(i) for i in np.abs(D_data)/np.max(np.abs(D_data))])\n",
    "print(tensor_x.shape,tensor_y.shape)\n",
    "my_dataset = utils.TensorDataset(tensor_x,tensor_y) # create your datset\n",
    "my_dataloader = utils.DataLoader(my_dataset) # create your dataloader\n",
    "\n",
    "# Optimizers require the parameters to optimize and a learning rate\n",
    "optimizer = optim.SGD(model.parameters(), lr=0.01)\n",
    "\n",
    "criterion = nn.L1Loss()\n",
    "# Get our data\n"
   ]
  },
  {
   "cell_type": "code",
   "execution_count": 167,
   "metadata": {},
   "outputs": [
    {
     "name": "stdout",
     "output_type": "stream",
     "text": [
      "torch.Size([1, 1025]) torch.Size([1, 1025])\n",
      "tensor(12251.9238, grad_fn=<SumBackward0>) tensor(0.0508, grad_fn=<L1LossBackward>)\n"
     ]
    }
   ],
   "source": [
    "\n",
    "\n",
    "data, labels = next(iter(my_dataloader))\n",
    "\n",
    "optimizer.zero_grad()\n",
    "\n",
    "# Forward pass, get our logits\n",
    "logits = model(data)\n",
    "print(labels.shape,logits.shape)\n",
    "# Calculate the loss with the logits and the labels\n",
    "x=criterion(logits,labels)\n",
    "\n",
    "x.backward()\n",
    "print(loss,x)\n",
    "optimizer.step()"
   ]
  },
  {
   "cell_type": "code",
   "execution_count": null,
   "metadata": {},
   "outputs": [
    {
     "name": "stdout",
     "output_type": "stream",
     "text": [
      "Training loss: 0.0034061144347992036\n",
      "Training loss: 0.0034023445801107913\n",
      "Training loss: 0.003398601727729494\n",
      "Training loss: 0.003394991966786903\n",
      "Training loss: 0.003391418358093345\n",
      "Training loss: 0.0033880072878673673\n",
      "Training loss: 0.0033845971943205827\n",
      "Training loss: 0.0033812173203770796\n",
      "Training loss: 0.0033779832679633197\n",
      "Training loss: 0.0033747563894547814\n",
      "Training loss: 0.0033717082402148803\n",
      "Training loss: 0.003368739141514162\n",
      "Training loss: 0.0033657453446225686\n",
      "Training loss: 0.003362889772027054\n",
      "Training loss: 0.0033600510539511194\n",
      "Training loss: 0.0033572982912036505\n",
      "Training loss: 0.003354621029083992\n",
      "Training loss: 0.0033520356020224945\n",
      "Training loss: 0.0033494413425154113\n",
      "Training loss: 0.0033469173101732482\n",
      "Training loss: 0.0033444820074727396\n",
      "Training loss: 0.003342052321433537\n",
      "Training loss: 0.0033396167450814277\n",
      "Training loss: 0.003337364401910212\n",
      "Training loss: 0.0033350937074509922\n",
      "Training loss: 0.0033328488874309636\n",
      "Training loss: 0.0033306293144168986\n",
      "Training loss: 0.0033285778209373547\n",
      "Training loss: 0.0033264467356629765\n",
      "Training loss: 0.0033244359830104106\n",
      "Training loss: 0.00332240101294713\n",
      "Training loss: 0.003320445453252208\n",
      "Training loss: 0.003318492099400852\n",
      "Training loss: 0.0033166673769206775\n",
      "Training loss: 0.0033147903174379624\n",
      "Training loss: 0.003312967888490817\n",
      "Training loss: 0.0033112092536281457\n",
      "Training loss: 0.003309525903193401\n",
      "Training loss: 0.003307735125606807\n",
      "Training loss: 0.0033061380238066634\n",
      "Training loss: 0.0033045359856944964\n",
      "Training loss: 0.0033029334063266777\n",
      "Training loss: 0.0033014106636794355\n",
      "Training loss: 0.003299859828654338\n",
      "Training loss: 0.0032983236211388337\n",
      "Training loss: 0.0032968853037901127\n",
      "Training loss: 0.0032954598586498337\n",
      "Training loss: 0.003294060225961367\n",
      "Training loss: 0.0032926634537636655\n",
      "Training loss: 0.0032913487241301056\n",
      "Training loss: 0.0032899476959696644\n",
      "Training loss: 0.0032887228193100204\n",
      "Training loss: 0.0032874217919110285\n",
      "Training loss: 0.0032862101412414538\n",
      "Training loss: 0.0032849978041750464\n",
      "Training loss: 0.0032838324633693056\n",
      "Training loss: 0.003282658528996172\n",
      "Training loss: 0.003281496218768517\n",
      "Training loss: 0.003280335158871656\n",
      "Training loss: 0.003279213348324955\n",
      "Training loss: 0.003278121670448016\n",
      "Training loss: 0.0032771096690315995\n",
      "Training loss: 0.003276033652795164\n",
      "Training loss: 0.0032749430740602894\n",
      "Training loss: 0.0032739681048113128\n",
      "Training loss: 0.0032730371110721843\n",
      "Training loss: 0.0032719721043990417\n",
      "Training loss: 0.003271097411830946\n",
      "Training loss: 0.0032700388427739117\n",
      "Training loss: 0.0032692384957517316\n",
      "Training loss: 0.0032683038621439367\n",
      "Training loss: 0.0032673695241101086\n",
      "Training loss: 0.0032665128245127277\n",
      "Training loss: 0.003265679675583764\n",
      "Training loss: 0.0032648604987612503\n",
      "Training loss: 0.0032640724910072403\n",
      "Training loss: 0.003263294843460929\n",
      "Training loss: 0.003262472353337405\n",
      "Training loss: 0.0032616767014812245\n",
      "Training loss: 0.003260979921762626\n",
      "Training loss: 0.0032602398257170406\n",
      "Training loss: 0.0032595161321367343\n",
      "Training loss: 0.0032588832077340454\n",
      "Training loss: 0.00325816426979523\n",
      "Training loss: 0.003257534108366575\n",
      "Training loss: 0.00325690119303521\n",
      "Training loss: 0.0032562237730334427\n",
      "Training loss: 0.0032555912795186335\n",
      "Training loss: 0.0032550737098488327\n",
      "Training loss: 0.0032544319106677135\n",
      "Training loss: 0.0032538294243360205\n",
      "Training loss: 0.003253244899225409\n",
      "Training loss: 0.0032527098309720393\n",
      "Training loss: 0.003252191989918469\n",
      "Training loss: 0.0032516539069618305\n",
      "Training loss: 0.003251057477250647\n",
      "Training loss: 0.0032505940497768197\n",
      "Training loss: 0.0032499997472910623\n",
      "Training loss: 0.0032496371778187815\n",
      "Training loss: 0.0032490663798888783\n",
      "Training loss: 0.0032486537843337887\n",
      "Training loss: 0.0032481748214620468\n",
      "Training loss: 0.003247686986079706\n",
      "Training loss: 0.003247232859736526\n",
      "Training loss: 0.003246834091146706\n",
      "Training loss: 0.0032463618206440823\n",
      "Training loss: 0.003245992115819706\n",
      "Training loss: 0.0032455514135238317\n",
      "Training loss: 0.003245170624297741\n",
      "Training loss: 0.0032447068566492723\n",
      "Training loss: 0.00324436903374826\n",
      "Training loss: 0.0032439809791477664\n",
      "Training loss: 0.0032436291652417123\n",
      "Training loss: 0.0032432093897338523\n",
      "Training loss: 0.0032429301532215207\n",
      "Training loss: 0.003242508242172854\n",
      "Training loss: 0.0032422590423254417\n",
      "Training loss: 0.003241861588321626\n",
      "Training loss: 0.0032416349639753242\n",
      "Training loss: 0.003241243513675963\n",
      "Training loss: 0.0032409494387457606\n",
      "Training loss: 0.0032406186400731275\n",
      "Training loss: 0.0032403011581038014\n",
      "Training loss: 0.003240004365556184\n",
      "Training loss: 0.0032397167547001176\n",
      "Training loss: 0.0032394259824877147\n",
      "Training loss: 0.0032391284045146466\n",
      "Training loss: 0.0032388584661091884\n",
      "Training loss: 0.0032385759397301\n",
      "Training loss: 0.003238317418341561\n",
      "Training loss: 0.0032380929658213605\n",
      "Training loss: 0.003237824137897122\n",
      "Training loss: 0.003237607808747365\n",
      "Training loss: 0.003237378737411474\n",
      "Training loss: 0.003237128356024139\n",
      "Training loss: 0.003236881661373977\n",
      "Training loss: 0.0032366277225158334\n",
      "Training loss: 0.0032363431150238815\n",
      "Training loss: 0.0032360744556750765\n",
      "Training loss: 0.003235931013855938\n",
      "Training loss: 0.003235736776403357\n",
      "Training loss: 0.0032354226130266468\n",
      "Training loss: 0.0032352267752413628\n",
      "Training loss: 0.003235012351825543\n",
      "Training loss: 0.0032349086303094573\n",
      "Training loss: 0.00323462253814418\n",
      "Training loss: 0.0032344533760983547\n",
      "Training loss: 0.0032342454311196003\n",
      "Training loss: 0.0032340543996240314\n",
      "Training loss: 0.003233930231344148\n",
      "Training loss: 0.003233732442468308\n",
      "Training loss: 0.003233596005978958\n",
      "Training loss: 0.003233342156322165\n",
      "Training loss: 0.003233252558101259\n",
      "Training loss: 0.0032330211599708183\n",
      "Training loss: 0.0032328856600956483\n",
      "Training loss: 0.0032327734206065344\n",
      "Training loss: 0.0032325694957361013\n",
      "Training loss: 0.0032324656215193984\n",
      "Training loss: 0.0032323160951098356\n",
      "Training loss: 0.0032321515730461227\n",
      "Training loss: 0.003231995319494034\n",
      "Training loss: 0.003231887999686183\n",
      "Training loss: 0.0032317471212719557\n",
      "Training loss: 0.003231614103915726\n",
      "Training loss: 0.003231479841520308\n",
      "Training loss: 0.0032313801726181206\n",
      "Training loss: 0.0032312470539654424\n",
      "Training loss: 0.0032311322654343462\n",
      "Training loss: 0.003230991931299546\n",
      "Training loss: 0.0032309032659131017\n",
      "Training loss: 0.0032307505123801046\n",
      "Training loss: 0.003230694026758822\n",
      "Training loss: 0.003230490476080495\n",
      "Training loss: 0.003230433992727043\n",
      "Training loss: 0.003230319281302199\n",
      "Training loss: 0.0032302152037366545\n",
      "Training loss: 0.0032301043294817693\n",
      "Training loss: 0.0032300535406518194\n",
      "Training loss: 0.003229903207650384\n",
      "Training loss: 0.003229790524422348\n",
      "Training loss: 0.003229750700555016\n",
      "Training loss: 0.0032295286564712786\n",
      "Training loss: 0.0032294958008924957\n",
      "Training loss: 0.0032293618756479452\n",
      "Training loss: 0.003229350980232143\n",
      "Training loss: 0.003229183400376373\n",
      "Training loss: 0.0032291456772764395\n",
      "Training loss: 0.003229029357959456\n",
      "Training loss: 0.003228937938670301\n",
      "Training loss: 0.0032288575516227487\n",
      "Training loss: 0.0032287780392019974\n",
      "Training loss: 0.00322867034520204\n",
      "Training loss: 0.0032285476925891714\n",
      "Training loss: 0.0032285719931536873\n",
      "Training loss: 0.0032284479964730124\n",
      "Training loss: 0.0032283595367032405\n",
      "Training loss: 0.0032283182493290053\n",
      "Training loss: 0.0032281957055720224\n",
      "Training loss: 0.0032281617145658798\n",
      "Training loss: 0.0032280545467027015\n",
      "Training loss: 0.0032280306377169953\n",
      "Training loss: 0.0032279701750761794\n",
      "Training loss: 0.003227847543629733\n",
      "Training loss: 0.0032278303791732563\n",
      "Training loss: 0.0032276992305097256\n",
      "Training loss: 0.003227644726972688\n",
      "Training loss: 0.0032275864293544805\n",
      "Training loss: 0.0032275684280683855\n",
      "Training loss: 0.0032274835718819847\n",
      "Training loss: 0.0032274328011946823\n",
      "Training loss: 0.003227344547041583\n",
      "Training loss: 0.0032272816767202474\n",
      "Training loss: 0.0032272573701081823\n",
      "Training loss: 0.003227158735336905\n",
      "Training loss: 0.0032270957765701625\n",
      "Training loss: 0.0032270123377781024\n",
      "Training loss: 0.003226964502419986\n",
      "Training loss: 0.0032269207484016266\n",
      "Training loss: 0.003226827410527493\n",
      "Training loss: 0.0032267700941241407\n",
      "Training loss: 0.003226767539790553\n",
      "Training loss: 0.0032266684408698764\n",
      "Training loss: 0.0032266480840633734\n"
     ]
    },
    {
     "name": "stdout",
     "output_type": "stream",
     "text": [
      "Training loss: 0.003226600528404407\n",
      "Training loss: 0.0032265510511366867\n",
      "Training loss: 0.003226484581767642\n",
      "Training loss: 0.0032264647972104804\n",
      "Training loss: 0.003226388977574451\n",
      "Training loss: 0.003226384210593805\n",
      "Training loss: 0.0032262933854763577\n",
      "Training loss: 0.0032262014045210726\n",
      "Training loss: 0.0032262404028979407\n",
      "Training loss: 0.0032262152730632427\n",
      "Training loss: 0.0032260808481399403\n",
      "Training loss: 0.003226054796809935\n",
      "Training loss: 0.0032259732403175593\n",
      "Training loss: 0.0032259277725749493\n",
      "Training loss: 0.0032259093729065515\n",
      "Training loss: 0.0032258659923243543\n",
      "Training loss: 0.0032258048863754935\n",
      "Training loss: 0.0032257417053613183\n",
      "Training loss: 0.0032257027508291814\n",
      "Training loss: 0.0032256176111639125\n",
      "Training loss: 0.003225605946197477\n",
      "Training loss: 0.0032255585696971552\n",
      "Training loss: 0.003225531921171668\n",
      "Training loss: 0.003225431104747022\n",
      "Training loss: 0.003225374729493512\n",
      "Training loss: 0.0032253779989497907\n",
      "Training loss: 0.0032253068797713654\n",
      "Training loss: 0.0032252891619641384\n",
      "Training loss: 0.0032252339826134794\n",
      "Training loss: 0.003225226174471537\n",
      "Training loss: 0.0032251354680372427\n",
      "Training loss: 0.003225126669609121\n",
      "Training loss: 0.003225001005316758\n",
      "Training loss: 0.0032250461026469804\n",
      "Training loss: 0.0032249262379542864\n",
      "Training loss: 0.003224995418137254\n",
      "Training loss: 0.003224856806042084\n",
      "Training loss: 0.0032249037493866954\n",
      "Training loss: 0.0032247529968365348\n",
      "Training loss: 0.003224851420699534\n",
      "Training loss: 0.0032247193890938223\n",
      "Training loss: 0.0032247476999393916\n",
      "Training loss: 0.003224653151799477\n",
      "Training loss: 0.0032246745759984116\n",
      "Training loss: 0.0032245979860558043\n",
      "Training loss: 0.003224594180635479\n",
      "Training loss: 0.003224516893712828\n",
      "Training loss: 0.003224502917070716\n",
      "Training loss: 0.0032244400543088164\n",
      "Training loss: 0.0032243817990234534\n",
      "Training loss: 0.003224385860708675\n",
      "Training loss: 0.003224328617631857\n",
      "Training loss: 0.0032243601389701005\n",
      "Training loss: 0.003224281198798691\n",
      "Training loss: 0.003224248483069483\n",
      "Training loss: 0.0032241668698813333\n",
      "Training loss: 0.003224187086082318\n",
      "Training loss: 0.003224098711734178\n",
      "Training loss: 0.0032240507584488528\n",
      "Training loss: 0.0032240122340486516\n",
      "Training loss: 0.0032239911878215416\n",
      "Training loss: 0.003224006074619806\n",
      "Training loss: 0.003223936469596508\n",
      "Training loss: 0.003223905757117968\n",
      "Training loss: 0.0032238988901258678\n",
      "Training loss: 0.0032238224914370034\n",
      "Training loss: 0.0032238029306391617\n",
      "Training loss: 0.003223734187391623\n",
      "Training loss: 0.0032237294128515405\n",
      "Training loss: 0.003223641453516464\n",
      "Training loss: 0.003223625217358787\n",
      "Training loss: 0.003223575927565092\n",
      "Training loss: 0.003223517878652345\n",
      "Training loss: 0.00322348026516424\n",
      "Training loss: 0.0032234205100866785\n",
      "Training loss: 0.0032234422245679736\n",
      "Training loss: 0.0032233650200431804\n",
      "Training loss: 0.003223397996572947\n",
      "Training loss: 0.003223302470997895\n",
      "Training loss: 0.00322331867162622\n",
      "Training loss: 0.003223253590925657\n",
      "Training loss: 0.0032232726044202973\n",
      "Training loss: 0.0032231910615349068\n",
      "Training loss: 0.0032231693939221177\n",
      "Training loss: 0.0032230897068783832\n",
      "Training loss: 0.0032231248113895198\n",
      "Training loss: 0.0032230353643573433\n",
      "Training loss: 0.0032230167794827518\n",
      "Training loss: 0.0032229300357050615\n",
      "Training loss: 0.003222947033853935\n",
      "Training loss: 0.0032228851606222715\n",
      "Training loss: 0.0032227959086235563\n",
      "Training loss: 0.0032228163644586775\n",
      "Training loss: 0.0032227289947596464\n",
      "Training loss: 0.003222695087663249\n",
      "Training loss: 0.003222652069178059\n",
      "Training loss: 0.0032226304113925374\n",
      "Training loss: 0.0032226266520847748\n",
      "Training loss: 0.003222585394192342\n",
      "Training loss: 0.0032224852429981066\n",
      "Training loss: 0.0032225285638607555\n",
      "Training loss: 0.0032224714341754844\n",
      "Training loss: 0.0032224701256370293\n",
      "Training loss: 0.0032223503236876584\n",
      "Training loss: 0.0032223923609579924\n",
      "Training loss: 0.003222250718284737\n",
      "Training loss: 0.0032222999838882357\n",
      "Training loss: 0.0032222085109270817\n",
      "Training loss: 0.0032221892547745308\n",
      "Training loss: 0.0032221052913575785\n",
      "Training loss: 0.0032221135235839075\n",
      "Training loss: 0.003221979939269942\n",
      "Training loss: 0.0032220740376233863\n",
      "Training loss: 0.0032219242866985596\n",
      "Training loss: 0.0032220181877507113\n",
      "Training loss: 0.0032218906298195097\n",
      "Training loss: 0.0032218939574834493\n",
      "Training loss: 0.0032218271093866365\n",
      "Training loss: 0.0032218066853011485\n",
      "Training loss: 0.0032217603021107806\n",
      "Training loss: 0.0032217507341320254\n",
      "Training loss: 0.003221639199182391\n",
      "Training loss: 0.0032216501996743603\n",
      "Training loss: 0.0032215775867512862\n",
      "Training loss: 0.003221544353956623\n",
      "Training loss: 0.0032214951223705885\n",
      "Training loss: 0.003221502526082679\n",
      "Training loss: 0.0032214657070913483\n",
      "Training loss: 0.0032213624482127752\n",
      "Training loss: 0.003221352110683386\n",
      "Training loss: 0.0032212767604883614\n",
      "Training loss: 0.003221279456183411\n",
      "Training loss: 0.003221215830674371\n",
      "Training loss: 0.003221223226071081\n",
      "Training loss: 0.00322117240171178\n",
      "Training loss: 0.003221169339384061\n",
      "Training loss: 0.0032211578248504116\n",
      "Training loss: 0.003220990420373568\n",
      "Training loss: 0.003221088825337976\n",
      "Training loss: 0.0032208939627199978\n",
      "Training loss: 0.0032209752417810553\n",
      "Training loss: 0.0032207995068052084\n",
      "Training loss: 0.0032208812711820877\n",
      "Training loss: 0.003220748568298416\n",
      "Training loss: 0.0032208679469193442\n",
      "Training loss: 0.00322066329861084\n",
      "Training loss: 0.0032207589988088744\n",
      "Training loss: 0.0032206535779314674\n",
      "Training loss: 0.00322060248294434\n",
      "Training loss: 0.003220548958354327\n",
      "Training loss: 0.0032205017836909595\n",
      "Training loss: 0.0032205055581175954\n",
      "Training loss: 0.003220391025851396\n",
      "Training loss: 0.00322042273995527\n",
      "Training loss: 0.0032202872053066923\n",
      "Training loss: 0.0032203351064319058\n",
      "Training loss: 0.003220245193738442\n",
      "Training loss: 0.0032202393941387726\n",
      "Training loss: 0.003220184610902586\n",
      "Training loss: 0.003220137845204732\n",
      "Training loss: 0.0032200985142126584\n",
      "Training loss: 0.003220098524039926\n",
      "Training loss: 0.0032200294330583085\n",
      "Training loss: 0.0032200221896062716\n",
      "Training loss: 0.0032199019159480638\n",
      "Training loss: 0.0032199048905863195\n",
      "Training loss: 0.003219839076620418\n",
      "Training loss: 0.0032198413678856154\n",
      "Training loss: 0.003219726621687364\n",
      "Training loss: 0.003219756592585185\n",
      "Training loss: 0.0032196986147311406\n",
      "Training loss: 0.003219645272323547\n",
      "Training loss: 0.0032196311664150715\n",
      "Training loss: 0.0032195981649391645\n",
      "Training loss: 0.0032195439569760935\n",
      "Training loss: 0.003219448720927459\n",
      "Training loss: 0.0032194097452289\n",
      "Training loss: 0.003219382312033906\n",
      "Training loss: 0.003219404018955765\n",
      "Training loss: 0.003219325951899269\n",
      "Training loss: 0.0032192509411229425\n",
      "Training loss: 0.0032192136481549445\n",
      "Training loss: 0.0032191709486779746\n",
      "Training loss: 0.003219159660927419\n",
      "Training loss: 0.0032190955848759644\n",
      "Training loss: 0.0032190872407699754\n",
      "Training loss: 0.003219012250404128\n",
      "Training loss: 0.0032190654862236665\n",
      "Training loss: 0.0032189116607625762\n",
      "Training loss: 0.003218914461533793\n",
      "Training loss: 0.0032187882076053845\n",
      "Training loss: 0.003218877458848156\n",
      "Training loss: 0.003218824399163487\n",
      "Training loss: 0.00321879523107782\n",
      "Training loss: 0.0032187181338970247\n",
      "Training loss: 0.0032187027519556704\n",
      "Training loss: 0.0032186787719112615\n",
      "Training loss: 0.003218659950426308\n",
      "Training loss: 0.0032186295168909742\n",
      "Training loss: 0.0032185741976907406\n",
      "Training loss: 0.0032185301239082177\n",
      "Training loss: 0.0032184424775338113\n",
      "Training loss: 0.0032184570105504486\n",
      "Training loss: 0.0032183736821261607\n",
      "Training loss: 0.003218359988962917\n",
      "Training loss: 0.003218271357593937\n",
      "Training loss: 0.0032182616331348462\n",
      "Training loss: 0.00321819400112447\n",
      "Training loss: 0.0032181741077114234\n",
      "Training loss: 0.003218068565127089\n",
      "Training loss: 0.003218099262486756\n",
      "Training loss: 0.003218021907529177\n",
      "Training loss: 0.003218033625411668\n",
      "Training loss: 0.003218010944078447\n",
      "Training loss: 0.003217921921130657\n",
      "Training loss: 0.003217904546521846\n",
      "Training loss: 0.0032178925035835863\n",
      "Training loss: 0.0032178407660443577\n",
      "Training loss: 0.003217804253210205\n",
      "Training loss: 0.003217729402693932\n",
      "Training loss: 0.003217750041467416\n",
      "Training loss: 0.0032176234020077467\n",
      "Training loss: 0.0032176628093501286\n",
      "Training loss: 0.0032175846462887893\n",
      "Training loss: 0.0032175700354099565\n"
     ]
    },
    {
     "name": "stdout",
     "output_type": "stream",
     "text": [
      "Training loss: 0.00321752578473662\n",
      "Training loss: 0.0032175253470452477\n",
      "Training loss: 0.0032174430210022377\n",
      "Training loss: 0.0032173924377889604\n",
      "Training loss: 0.0032174097549460537\n",
      "Training loss: 0.003217361398742764\n",
      "Training loss: 0.0032173487102286286\n"
     ]
    }
   ],
   "source": [
    "epochs = 500\n",
    "LossOverEpoch=[]\n",
    "for e in range(epochs):\n",
    "    running_loss = 0\n",
    "    for data, labels in my_dataloader:\n",
    "        # Flatten MNIST images into a 784 long vector\n",
    "        \n",
    "        # TODO: Training pass\n",
    "        optimizer.zero_grad()\n",
    "        \n",
    "        logits = model(data)\n",
    "        loss =criterion(logits,labels)\n",
    "        loss.backward()\n",
    "        optimizer.step()\n",
    "        \n",
    "        running_loss += loss.item()\n",
    "    else:\n",
    "        LossOverEpoch.append(running_loss)\n",
    "        print(f\"Training loss: {running_loss/len(my_dataloader)}\")"
   ]
  },
  {
   "cell_type": "code",
   "execution_count": null,
   "metadata": {},
   "outputs": [],
   "source": [
    "plt.plot(LossOverEpoch)\n",
    "plt.show()"
   ]
  },
  {
   "cell_type": "code",
   "execution_count": null,
   "metadata": {},
   "outputs": [],
   "source": []
  }
 ],
 "metadata": {
  "kernelspec": {
   "display_name": "Python 3",
   "language": "python",
   "name": "python3"
  },
  "language_info": {
   "codemirror_mode": {
    "name": "ipython",
    "version": 3
   },
   "file_extension": ".py",
   "mimetype": "text/x-python",
   "name": "python",
   "nbconvert_exporter": "python",
   "pygments_lexer": "ipython3",
   "version": "3.7.3"
  }
 },
 "nbformat": 4,
 "nbformat_minor": 2
}
